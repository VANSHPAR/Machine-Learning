{
 "cells": [
  {
   "cell_type": "code",
   "execution_count": null,
   "id": "bf839fea",
   "metadata": {},
   "outputs": [
    {
     "name": "stdout",
     "output_type": "stream",
     "text": [
      "Based on your studied hours 10.0,you are likely to PASS \n"
     ]
    }
   ],
   "source": [
    "#Logistic Regression\n",
    "from sklearn.linear_model import LogisticRegression\n",
    "\n",
    "x=[[1],[2],[3],[4],[5]]  #input\n",
    "y=[0,0,1,1,1] #result 0 -> F  1->P\n",
    "\n",
    "model=LogisticRegression()\n",
    "\n",
    "model.fit(x,y)\n",
    "\n",
    "hours=float(input(\"Enter  how many hours you studies\"))\n",
    "\n",
    "result=model.predict([[hours]])[0]\n",
    "\n",
    "if result==1:\n",
    "    print(f\"Based on your studied hours {hours},you are likely to PASS \")\n",
    "else:\n",
    "    print(f\"Based on your studied hours {hours},you are likely to FAIL \")\n",
    "    \n",
    "\n"
   ]
  },
  {
   "cell_type": "code",
   "execution_count": null,
   "id": "226096b3",
   "metadata": {},
   "outputs": [
    {
     "name": "stdout",
     "output_type": "stream",
     "text": [
      "This is likely an Apple\n"
     ]
    }
   ],
   "source": [
    "#KNN\n",
    "from sklearn.neighbors import KNeighborsClassifier\n",
    "\n",
    "X=[\n",
    "   [180,7],\n",
    "   [200,7.5],\n",
    "   [250,8],\n",
    "   [300,8.5],\n",
    "   [330,9],\n",
    "   [360,9.5] \n",
    "]\n",
    "#0=apple 1=Orange\n",
    "y=[0,0,0,1,1,1]\n",
    "model=KNeighborsClassifier(n_neighbors=3)\n",
    "model.fit(X,y)\n",
    "\n",
    "weight=float(input(\"Enter weight in grams\"))\n",
    "size=float(input(\"Enter size in centimeter\"))\n",
    "\n",
    "prediction=model.predict([[weight,size]])[0]\n",
    "#predict function gives list and o/p present in list and to access that o/p 0 indexed value of list\n",
    "if prediction==0:\n",
    "    print(\"This is likely an Apple\")\n",
    "else:\n",
    "    print(\"This is likely an Orange\")\n",
    "\n"
   ]
  },
  {
   "cell_type": "code",
   "execution_count": 13,
   "id": "fcd41110",
   "metadata": {},
   "outputs": [
    {
     "name": "stdout",
     "output_type": "stream",
     "text": [
      "This is likely an Apple\n"
     ]
    }
   ],
   "source": [
    "#Decision Tree Classifier\n",
    "from sklearn.tree import DecisionTreeClassifier\n",
    "\n",
    "X=[\n",
    "    [7,2], #Apple\n",
    "    [8,3],#Apple \n",
    "    [9,8], #Orange\n",
    "    [10,9] #Orange\n",
    "]\n",
    "y=[0,0,1,1]\n",
    "#0 apple  1 ->orange\n",
    "model=DecisionTreeClassifier()\n",
    "model.fit(X,y)\n",
    "\n",
    "size=float(input(\"Enter size in centimeter\"))\n",
    "shade=float(input(\"Enter color Shade of fruit in number(1-10)\"))\n",
    "\n",
    "prediction=model.predict([[size,shade]])[0]\n",
    "\n",
    "if prediction==0 :\n",
    "    print(\"This is likely an Apple\")\n",
    "else:\n",
    "    print(\"This is likely an Orange\")\n"
   ]
  }
 ],
 "metadata": {
  "kernelspec": {
   "display_name": "Python 3",
   "language": "python",
   "name": "python3"
  },
  "language_info": {
   "codemirror_mode": {
    "name": "ipython",
    "version": 3
   },
   "file_extension": ".py",
   "mimetype": "text/x-python",
   "name": "python",
   "nbconvert_exporter": "python",
   "pygments_lexer": "ipython3",
   "version": "3.12.1"
  }
 },
 "nbformat": 4,
 "nbformat_minor": 5
}
