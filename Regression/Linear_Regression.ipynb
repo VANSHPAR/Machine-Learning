{
 "cells": [
  {
   "cell_type": "code",
   "execution_count": 3,
   "id": "6b04a1ed",
   "metadata": {},
   "outputs": [
    {
     "name": "stdout",
     "output_type": "stream",
     "text": [
      "Based on Study Hours 8.0 your marks may be [126.5]\n"
     ]
    }
   ],
   "source": [
    "from sklearn.linear_model import LinearRegression\n",
    "\n",
    "x=[[1],[2],[3],[4],[5]]\n",
    "y=[40,50,65,75,90]\n",
    "model=LinearRegression()\n",
    "model.fit(x,y)\n",
    "\n",
    "hours=float(input(\"Enter how many hours you studied\"))\n",
    "prediction=model.predict([[hours]])\n",
    "#[[value]] 2D List\n",
    "#row ->example col->features\n",
    "print(f\"Based on Study Hours {hours} your marks may be {prediction}\")"
   ]
  }
 ],
 "metadata": {
  "kernelspec": {
   "display_name": "Python 3",
   "language": "python",
   "name": "python3"
  },
  "language_info": {
   "codemirror_mode": {
    "name": "ipython",
    "version": 3
   },
   "file_extension": ".py",
   "mimetype": "text/x-python",
   "name": "python",
   "nbconvert_exporter": "python",
   "pygments_lexer": "ipython3",
   "version": "3.12.1"
  }
 },
 "nbformat": 4,
 "nbformat_minor": 5
}
